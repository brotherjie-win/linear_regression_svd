{
 "cells": [
  {
   "cell_type": "code",
   "execution_count": 1,
   "id": "8101381f",
   "metadata": {},
   "outputs": [],
   "source": [
    "import numpy as np\n",
    "from sklearn.datasets import make_regression\n",
    "from sklearn.model_selection import train_test_split\n",
    "X_inv,Y_inv=make_regression(n_samples=100, n_features=10, n_informative=10, n_targets=1, noise=1.2, random_state=2023)\n",
    "X_ninv,Y_ninv=make_regression(n_samples=10, n_features=100, n_informative=100, n_targets=1, noise=1.2, random_state=2023)\n",
    "np.set_printoptions(\n",
    "    infstr='inf',\n",
    "    nanstr='nan',\n",
    "    formatter=None,\n",
    "    precision=2,    # 精度，保留小数点后几位\n",
    "    threshold=500,\n",
    "    # 最多可现实的Array元素个数\n",
    "    # 限制的是基本元素个数，如3*5的矩阵，限制的是15而非3（行）\n",
    "    # 如果超过就采用缩略显示\n",
    "    edgeitems=3,\n",
    "    # 在缩率显示时在起始和默认显示的元素个数\n",
    "    linewidth=150,  # 每行最多显示的字符数，默认80，超过则换行显示\n",
    "    suppress=True   # 浮点显示（不用科学计数法）\n",
    ")"
   ]
  },
  {
   "cell_type": "code",
   "execution_count": 5,
   "id": "695c6e19",
   "metadata": {
    "scrolled": true
   },
   "outputs": [
    {
     "data": {
      "text/plain": [
       "array([[ 0.16, -0.86, -1.37, ...,  0.89,  0.42, -0.56],\n",
       "       [-1.01, -0.34, -1.11, ..., -0.22, -0.23, -0.89],\n",
       "       [-2.09, -0.7 , -1.22, ..., -0.51,  1.07, -0.27],\n",
       "       ...,\n",
       "       [ 0.11, -0.71, -0.8 , ...,  1.57,  0.49,  0.23],\n",
       "       [ 0.51,  0.82,  0.16, ..., -0.63, -0.19, -0.36],\n",
       "       [ 2.23,  0.6 , -1.41, ...,  1.28, -0.54, -1.33]])"
      ]
     },
     "execution_count": 5,
     "metadata": {},
     "output_type": "execute_result"
    }
   ],
   "source": [
    "X_inv"
   ]
  },
  {
   "cell_type": "code",
   "execution_count": 7,
   "id": "1d287a26",
   "metadata": {},
   "outputs": [
    {
     "data": {
      "text/plain": [
       "array([-123.79,  -63.66,   64.15, -219.32,   59.64, -146.95,    2.55,  463.68,  -39.87, -251.17,  255.13, -337.93,  108.29,   49.57, -316.2 ,\n",
       "         10.93,   81.18,  450.32, -459.89, -115.26,   41.13,  213.52, -180.35, -140.7 , -165.78,  -48.72,   73.67,  155.93,   43.04,  -34.63,\n",
       "       -220.61,  171.27,  -41.79,  160.76, -193.17, -203.32,  261.33, -160.4 ,  -79.  ,   20.23, -139.91,  -94.27, -249.58, -127.48,  155.6 ,\n",
       "        245.49,  402.77,  113.35, -103.85,  -89.46, -370.71,  -97.99,  178.83,   12.12,  211.78,  350.44,  -17.7 , -129.38, -207.21, -247.12,\n",
       "       -131.31,    8.86, -252.53, -223.22,  101.31,  255.09,  168.74,   21.32,  413.02,   44.21,   75.13,  200.67,  161.47,   76.16,  -42.3 ,\n",
       "         25.52,   40.7 ,  -95.74, -310.57,   21.74, -169.26, -249.75, -242.5 ,   68.27,  327.78,    7.99,  178.5 ,  268.77,   -6.05,   80.72,\n",
       "        225.84,  118.49,    8.22, -137.16,   72.53,  -49.49,  -94.25,   42.86,  198.07,   66.81])"
      ]
     },
     "execution_count": 7,
     "metadata": {},
     "output_type": "execute_result"
    }
   ],
   "source": [
    "Y_inv"
   ]
  },
  {
   "cell_type": "code",
   "execution_count": 9,
   "id": "fc1b3683",
   "metadata": {},
   "outputs": [
    {
     "data": {
      "text/plain": [
       "array([[-1.31,  0.11, -1.05, ...,  0.1 , -0.34,  0.04],\n",
       "       [ 0.15, -0.54,  0.89, ..., -0.7 ,  0.44,  1.93],\n",
       "       [ 0.44,  0.74, -0.52, ..., -1.79,  1.31, -0.29],\n",
       "       ...,\n",
       "       [ 1.44, -1.3 ,  0.43, ...,  1.08, -0.24, -0.51],\n",
       "       [ 0.49, -0.8 , -1.75, ...,  0.22,  1.59,  0.57],\n",
       "       [ 1.46, -1.7 ,  0.67, ..., -0.86,  1.67, -0.97]])"
      ]
     },
     "execution_count": 9,
     "metadata": {},
     "output_type": "execute_result"
    }
   ],
   "source": [
    "X_ninv"
   ]
  },
  {
   "cell_type": "code",
   "execution_count": 11,
   "id": "0f131575",
   "metadata": {},
   "outputs": [
    {
     "data": {
      "text/plain": [
       "array([-281.76,  392.44, -502.54, -235.9 ,  336.08,   14.49,  922.51,  273.71, -409.79, -827.08])"
      ]
     },
     "execution_count": 11,
     "metadata": {},
     "output_type": "execute_result"
    }
   ],
   "source": [
    "Y_ninv"
   ]
  },
  {
   "cell_type": "code",
   "execution_count": 13,
   "id": "948434d6",
   "metadata": {},
   "outputs": [],
   "source": [
    "X_inv_train, X_inv_test, Y_inv_train, Y_inv_test = train_test_split(X_inv, Y_inv, test_size=0.3, random_state=2023)\n",
    "X_ninv_train, X_ninv_test, Y_ninv_train, Y_ninv_test = train_test_split(X_ninv, Y_ninv, test_size=0.3, random_state=2023)"
   ]
  },
  {
   "cell_type": "code",
   "execution_count": 15,
   "id": "6ca9a7a0",
   "metadata": {},
   "outputs": [
    {
     "data": {
      "text/plain": [
       "array([[ 0.71, -1.14,  1.44, ..., -1.  , -3.12,  0.24],\n",
       "       [ 1.07,  0.08,  0.11, ..., -1.19, -1.31, -0.69],\n",
       "       [-2.28, -1.58, -0.17, ...,  2.4 ,  0.45, -2.58],\n",
       "       ...,\n",
       "       [-0.56,  0.89, -0.64, ..., -0.6 ,  0.66, -1.52],\n",
       "       [ 0.52, -0.75, -0.65, ..., -0.85,  0.96, -0.65],\n",
       "       [ 0.83,  0.75,  1.01, ...,  2.16, -0.89, -0.02]])"
      ]
     },
     "execution_count": 15,
     "metadata": {},
     "output_type": "execute_result"
    }
   ],
   "source": [
    "X_inv_train"
   ]
  },
  {
   "cell_type": "code",
   "execution_count": 17,
   "id": "478b35c0",
   "metadata": {},
   "outputs": [
    {
     "data": {
      "text/plain": [
       "array([[ 1.47,  1.04,  0.38, -0.91,  0.5 ,  0.98, -0.93, -0.58, -0.38,  0.16],\n",
       "       [-1.04, -0.76,  0.87,  0.66,  0.04,  1.19,  0.05,  1.65, -0.52,  0.06],\n",
       "       [-0.65,  2.54,  0.25,  0.79,  0.19, -1.68,  0.38,  0.53,  1.73, -0.84],\n",
       "       [ 0.16, -0.86, -1.37, -0.5 , -0.39, -1.23, -0.31,  0.89,  0.42, -0.56],\n",
       "       [-1.64,  0.67, -1.87, -1.59, -0.67, -0.22,  0.44, -0.57, -0.75,  0.52],\n",
       "       [ 1.38, -1.25,  0.11,  0.77,  0.27,  0.96, -0.17,  0.77,  0.52,  1.3 ],\n",
       "       [ 2.12,  0.18,  1.56, -0.55, -1.99,  1.32,  0.25,  0.75,  0.73,  0.98],\n",
       "       [ 2.26,  1.15, -0.41, -0.32,  0.53, -0.72,  1.79, -0.16,  0.19, -0.65],\n",
       "       [ 0.73,  0.04,  0.42,  1.84,  1.36,  2.43,  0.97,  1.34, -0.22, -1.46],\n",
       "       [ 1.54, -1.  ,  0.35, -2.16,  1.23,  1.2 ,  1.2 ,  0.77,  1.49,  0.17],\n",
       "       [ 0.7 , -0.02, -1.64,  0.21,  1.01, -0.32, -0.85, -2.07, -1.08,  0.24],\n",
       "       [-0.57,  0.24, -1.15, -0.8 , -0.76,  0.57, -0.63,  1.87,  0.38, -0.23],\n",
       "       [-0.53,  0.84, -1.72, -0.69, -1.22, -0.2 ,  1.59,  1.25,  0.99, -2.31],\n",
       "       [-1.47, -0.51, -0.17,  1.08,  0.34,  0.97, -1.41, -1.64, -1.23, -1.71],\n",
       "       [ 0.34,  1.84,  0.26, -1.4 , -0.56, -0.08, -0.66,  0.05,  0.71,  1.05],\n",
       "       [ 0.82,  0.46, -0.27,  1.56, -0.83, -1.45, -1.48, -0.84,  0.49,  0.91],\n",
       "       [-0.08,  0.19,  1.33,  0.27,  0.98, -1.07,  1.08, -1.38,  0.77,  0.25],\n",
       "       [-0.87,  0.3 , -0.12, -1.35,  0.01, -0.25, -1.09, -0.05,  0.02,  0.15],\n",
       "       [-2.09, -0.7 , -1.22,  1.43, -1.08, -0.78,  1.85, -0.51,  1.07, -0.27],\n",
       "       [-0.02, -1.05, -0.13, -0.89, -0.24,  0.86,  0.33,  0.75, -0.88,  1.14],\n",
       "       [-0.13, -0.55, -0.55,  0.73,  2.21, -1.53,  0.47,  2.37,  0.84,  0.04],\n",
       "       [-0.51,  1.24, -1.95,  0.88, -1.75,  0.23,  0.38, -2.55, -0.36,  0.02],\n",
       "       [ 0.53, -2.29,  1.2 , -0.77, -0.05, -0.35,  0.49, -0.82, -1.76, -0.06],\n",
       "       [-0.49,  0.7 , -0.12,  1.  , -0.87,  0.13,  1.21,  0.74,  0.04, -0.2 ],\n",
       "       [-0.95,  1.08,  2.11, -0.92, -0.31, -1.19, -0.84, -0.83,  1.22,  0.14],\n",
       "       [ 0.05,  1.24,  0.03, -0.87, -0.24, -0.29,  0.18, -0.21,  0.6 ,  0.4 ],\n",
       "       [-0.67,  0.39, -0.59,  1.06,  0.06,  0.53,  1.17, -0.91, -0.73, -1.49],\n",
       "       [ 0.23,  1.28, -0.49,  0.05,  0.73,  0.14, -0.53, -2.01, -1.82, -0.27],\n",
       "       [-0.23, -1.69, -1.7 ,  1.03,  0.4 ,  0.59, -2.43, -0.56,  1.46, -0.08],\n",
       "       [-0.63,  0.5 ,  0.27, -2.27,  0.65, -0.97, -0.79, -0.88,  1.08, -0.55]])"
      ]
     },
     "execution_count": 17,
     "metadata": {},
     "output_type": "execute_result"
    }
   ],
   "source": [
    "X_inv_test"
   ]
  },
  {
   "cell_type": "code",
   "execution_count": 19,
   "id": "20633491",
   "metadata": {},
   "outputs": [
    {
     "data": {
      "text/plain": [
       "array([-316.2 , -370.71, -249.75,    2.55, -129.38,  101.31,  255.13,    7.99, -249.58,  -94.27, -115.26, -146.95,  171.27,  -63.66, -337.93,\n",
       "       -247.12,  261.33,   42.86, -139.91, -131.31,   21.74, -140.7 ,   21.32,  -97.99, -252.53,  155.93,  211.78, -310.57,   49.57,  161.47,\n",
       "       -193.17,  198.07,   72.53,  245.49,  463.68, -169.26,  225.84,  255.09,   66.81,   10.93,  -79.  ,   -6.05,   76.16,  -42.3 ,   25.52,\n",
       "        -89.46,  -34.63,  -41.79, -103.85, -223.22,  200.67,   43.04, -207.21, -137.16,   44.21,   20.23,  -95.74,  113.35,   12.12,  450.32,\n",
       "       -180.35,  178.5 ,  178.83, -219.32,    8.22,  160.76,  350.44,   75.13,  -48.72,  268.77])"
      ]
     },
     "execution_count": 19,
     "metadata": {},
     "output_type": "execute_result"
    }
   ],
   "source": [
    "Y_inv_train"
   ]
  },
  {
   "cell_type": "code",
   "execution_count": 21,
   "id": "847fdd4e",
   "metadata": {},
   "outputs": [
    {
     "data": {
      "text/plain": [
       "array([ -17.7 ,  108.29,  413.02, -123.79, -242.5 ,  168.74,  118.49,  155.6 ,  402.77,   41.13, -203.32,   40.7 ,   68.27, -251.17,   81.18,\n",
       "         80.72,   73.67, -165.78,   64.15, -127.48,  327.78,  -94.25, -459.89,  213.52,  -39.87,   59.64,    8.86, -160.4 ,  -49.49, -220.61])"
      ]
     },
     "execution_count": 21,
     "metadata": {},
     "output_type": "execute_result"
    }
   ],
   "source": [
    "Y_inv_test"
   ]
  },
  {
   "cell_type": "code",
   "execution_count": 23,
   "id": "1f5eb4c6",
   "metadata": {},
   "outputs": [],
   "source": [
    "def cal_mse(y_predict, y_true):\n",
    "    assert y_predict.ndim == y_true.ndim, 'y_predict和y_true需要维度相同'\n",
    "    return np.mean((y_predict - y_true) ** 2)"
   ]
  },
  {
   "cell_type": "code",
   "execution_count": 24,
   "id": "9e68ac57",
   "metadata": {},
   "outputs": [],
   "source": [
    "class LR(object):\n",
    "    def __init__(self,fit_intercept=True):\n",
    "        \"\"\"\n",
    "        :param fit_intercept: 是否加入截距项，如果加入，需要对X第一列增广，即拼接上全1向量\n",
    "        \"\"\"\n",
    "        self.beta = None #线性回归参数\n",
    "        self.fit_intercept = fit_intercept\n",
    "\n",
    "    def fit(self, X, y):\n",
    "        \"\"\"\n",
    "        :param X: 样本矩阵\n",
    "        \"\"\"\n",
    "        #当有截距项，需要在X左侧增广，加上一列全1的列向量\n",
    "        if self.fit_intercept:\n",
    "            X = np.hstack((np.ones_like(y.reshape((-1,1))), X))\n",
    "\n",
    "        ##判断(XTX)是否可逆\n",
    "        n_sample = X.shape[0]\n",
    "        n_feature = X.shape[1]\n",
    "\n",
    "        #简化处理：特征数量大于样本数量时矩阵显然不可逆\n",
    "        if n_feature > n_sample:\n",
    "            is_inv = False\n",
    "        #进一步判断行列式\n",
    "        elif np.linalg.det(np.matmul(X.T, X)) == 0:\n",
    "            is_inv = False\n",
    "        else:\n",
    "            is_inv = True\n",
    "\n",
    "        #可逆\n",
    "        if is_inv:\n",
    "            self.beta = np.linalg.inv(X.T.dot(X)).dot(X.T).dot(y)\n",
    "        #不可逆\n",
    "        else:\n",
    "            u,s,vt = np.linalg.svd(X) #SVD分解,s是向量，表示奇异值\n",
    "            if len(np.nonzero(s)[0]) == X.shape[0]:\n",
    "                sigma_inv_vector = 1 / s\n",
    "            else:#当出现0奇异值，1/s会报错，另外处理\n",
    "                n_nonzero = len(np.nonzero(s)[0])\n",
    "                s_nonzero = s[:n_nonzero]\n",
    "                s_inv = 1 / s #对角阵的伪逆\n",
    "                zeros = np.zeros((n_feature - len(s_inv)))\n",
    "                sigma_inv_vector = np.hstack((s_inv,zeros))\n",
    "            sigma_inv_diag = np.diag(sigma_inv_vector)\n",
    "            if X.shape[0] == X.shape[1]: #sigma是方阵(行=列)\n",
    "                sigma_inv = sigma_inv_diag\n",
    "            elif X.shape[0] > X.shape[1]: #sigma是竖的矩形(行>列)\n",
    "                sigma_zeros = np.zeros((X.shape[1],(X.shape[0] - X.shape[1])))\n",
    "                sigma_inv = np.hstack((sigma_inv_diag, sigma_zeros))\n",
    "            else:#sigma是横的矩形(行<列)\n",
    "                sigma_zeros = np.zeros(((X.shape[1] - X.shape[0]),X.shape[0]))\n",
    "                sigma_inv = np.vstack((sigma_inv_diag, sigma_zeros))\n",
    "\n",
    "            self.beta = vt.T @ sigma_inv @ u.T @ y\n",
    "\n",
    "        self.beta = self.beta.reshape((-1,1))\n",
    "\n",
    "    def predict(self, X):\n",
    "        \"\"\"\n",
    "        :param X: 测试集\n",
    "        :return: y_predict\n",
    "        \"\"\"\n",
    "        if X.shape[1] != self.beta.shape[0]:\n",
    "            X = np.hstack((np.ones((X.shape[0], 1)), X))\n",
    "\n",
    "        y_predict = X.dot(self.beta)\n",
    "        return y_predict\n"
   ]
  },
  {
   "cell_type": "code",
   "execution_count": 25,
   "id": "91f8831e",
   "metadata": {},
   "outputs": [
    {
     "name": "stdout",
     "output_type": "stream",
     "text": [
      "=====实验2：不可逆情形=====\n",
      "=====My Linear Regression=====\n",
      "MSE in training set:0.0000\n",
      "MSE in testing set:199273.5320\n",
      "MAE in training set:0.0000\n",
      "MAE in testing set:409.5487\n",
      "RMSE in training set:0.0000\n",
      "RMSE in testing set:20.2373\n",
      "=====Sklearn Linear Regression=====\n",
      "MSE in training set:0.0000\n",
      "MSE in testing set:229347.9297\n",
      "MAE in training set:0.0000\n",
      "MAE in testing set:437.4654\n",
      "RMSE in training set:0.0000\n",
      "RMSE in testing set:20.9157\n",
      "========\n",
      "SVD LR coef 2-norm:147.7551\n",
      "sklearn LR coef 2-norm:185.7106\n"
     ]
    }
   ],
   "source": [
    "from sklearn.linear_model import LinearRegression\n",
    "from sklearn.metrics import mean_squared_error\n",
    "from sklearn.metrics import mean_absolute_error\n",
    "print('=====实验2：不可逆情形=====')\n",
    "# SELF\n",
    "lr = LR(fit_intercept=True)\n",
    "lr.fit(X_ninv_train,Y_ninv_train)\n",
    "Y_ninv_train_predict = lr.predict(X_ninv_train)\n",
    "Y_ninv_test_predict = lr.predict(X_ninv_test)\n",
    "print('=====本文方法=====')\n",
    "print('MSE in training set:%.4f'%(mean_squared_error(Y_ninv_train, Y_ninv_train_predict)))\n",
    "print('MSE in testing set:%.4f' % (mean_squared_error(Y_ninv_test, Y_ninv_test_predict)))\n",
    "print('MAE in training set:%.4f'%(mean_absolute_error(Y_ninv_train, Y_ninv_train_predict)))\n",
    "print('MAE in testing set:%.4f' % (mean_absolute_error(Y_ninv_test, Y_ninv_test_predict)))\n",
    "print('RMSE in training set:%.4f'%(np.sqrt(mean_absolute_error(Y_ninv_train, Y_ninv_train_predict))))\n",
    "print('RMSE in testing set:%.4f' % (np.sqrt(mean_absolute_error(Y_ninv_test, Y_ninv_test_predict))))\n",
    "\n",
    "# SK\n",
    "from sklearn.linear_model import LinearRegression\n",
    "from sklearn.metrics import mean_squared_error\n",
    "lr_sk = LinearRegression()\n",
    "lr_sk.fit(X_ninv_train,Y_ninv_train)\n",
    "Y_ninv_train_predict_sk = lr_sk.predict(X_ninv_train)\n",
    "Y_ninv_test_predict_sk = lr_sk.predict(X_ninv_test)\n",
    "print('=====Sklearn方法=====')\n",
    "print('MSE in training set:%.4f'%(mean_squared_error(Y_ninv_train, Y_ninv_train_predict_sk)))\n",
    "print('MSE in testing set:%.4f' % (mean_squared_error(Y_ninv_test, Y_ninv_test_predict_sk)))\n",
    "print('MAE in training set:%.4f'%(mean_absolute_error(Y_ninv_train, Y_ninv_train_predict_sk)))\n",
    "print('MAE in testing set:%.4f' % (mean_absolute_error(Y_ninv_test, Y_ninv_test_predict_sk)))\n",
    "print('RMSE in training set:%.4f'%(np.sqrt(mean_absolute_error(Y_ninv_train, Y_ninv_train_predict_sk))))\n",
    "print('RMSE in testing set:%.4f' % (np.sqrt(mean_absolute_error(Y_ninv_test, Y_ninv_test_predict_sk))))\n",
    "print(\"========\")\n",
    "print('SVD LR coef 2-norm:%.4f'%np.linalg.norm(lr.beta))\n",
    "print('sklearn LR coef 2-norm:%.4f' % np.linalg.norm(np.hstack((lr_sk.coef_, lr_sk.intercept_))))"
   ]
  },
  {
   "cell_type": "code",
   "execution_count": 26,
   "id": "a3f186ca",
   "metadata": {},
   "outputs": [
    {
     "name": "stdout",
     "output_type": "stream",
     "text": [
      "=====实验1：可逆情形=====\n",
      "=====My Linear Regression=====\n",
      "MSE in training set:1.1637\n",
      "MSE in testing set:1.1384\n",
      "MAE in training set:0.9067\n",
      "MAE in testing set:0.7676\n",
      "RMSE in training set:0.9522\n",
      "RMSE in testing set:0.8761\n",
      "=====Sklearn Linear Regression=====\n",
      "MSE in training set:1.1637\n",
      "MSE in testing set:1.1384\n",
      "MAE in training set:0.9067\n",
      "MAE in testing set:0.7676\n",
      "RMSE in training set:0.9522\n",
      "RMSE in testing set:0.8761\n"
     ]
    }
   ],
   "source": [
    "from sklearn.linear_model import LinearRegression\n",
    "from sklearn.metrics import mean_squared_error\n",
    "from sklearn.metrics import mean_absolute_error\n",
    "print('=====实验1：可逆情形=====')\n",
    "# SELF\n",
    "lr = LR(fit_intercept=True)\n",
    "lr.fit(X_inv_train,Y_inv_train)\n",
    "Y_inv_train_predict = lr.predict(X_inv_train)\n",
    "Y_inv_test_predict = lr.predict(X_inv_test)\n",
    "print('=====本文方法=====')\n",
    "print('MSE in training set:%.4f'%(mean_squared_error(Y_inv_train, Y_inv_train_predict)))\n",
    "print('MSE in testing set:%.4f' % (mean_squared_error(Y_inv_test, Y_inv_test_predict)))\n",
    "print('MAE in training set:%.4f'%(mean_absolute_error(Y_inv_train, Y_inv_train_predict)))\n",
    "print('MAE in testing set:%.4f' % (mean_absolute_error(Y_inv_test, Y_inv_test_predict)))\n",
    "print('RMSE in training set:%.4f'%(np.sqrt(mean_absolute_error(Y_inv_train, Y_inv_train_predict))))\n",
    "print('RMSE in testing set:%.4f' % (np.sqrt(mean_absolute_error(Y_inv_test, Y_inv_test_predict))))\n",
    "\n",
    "# SK\n",
    "from sklearn.linear_model import LinearRegression\n",
    "from sklearn.metrics import mean_squared_error\n",
    "lr_sk = LinearRegression()\n",
    "lr_sk.fit(X_inv_train,Y_inv_train)\n",
    "Y_inv_train_predict_sk = lr_sk.predict(X_inv_train)\n",
    "Y_inv_test_predict_sk = lr_sk.predict(X_inv_test)\n",
    "print('=====Sklearn方法=====')\n",
    "print('MSE in training set:%.4f'%(mean_squared_error(Y_inv_train, Y_inv_train_predict_sk)))\n",
    "print('MSE in testing set:%.4f' % (mean_squared_error(Y_inv_test, Y_inv_test_predict_sk)))\n",
    "print('MAE in training set:%.4f'%(mean_absolute_error(Y_inv_train, Y_inv_train_predict_sk)))\n",
    "print('MAE in testing set:%.4f' % (mean_absolute_error(Y_inv_test, Y_inv_test_predict_sk)))\n",
    "print('RMSE in training set:%.4f'%(np.sqrt(mean_absolute_error(Y_inv_train, Y_inv_train_predict_sk))))\n",
    "print('RMSE in testing set:%.4f' % (np.sqrt(mean_absolute_error(Y_inv_test, Y_inv_test_predict_sk))))"
   ]
  }
 ],
 "metadata": {
  "kernelspec": {
   "display_name": "Python 3 (ipykernel)",
   "language": "python",
   "name": "python3"
  },
  "language_info": {
   "codemirror_mode": {
    "name": "ipython",
    "version": 3
   },
   "file_extension": ".py",
   "mimetype": "text/x-python",
   "name": "python",
   "nbconvert_exporter": "python",
   "pygments_lexer": "ipython3",
   "version": "3.9.12"
  }
 },
 "nbformat": 4,
 "nbformat_minor": 5
}
