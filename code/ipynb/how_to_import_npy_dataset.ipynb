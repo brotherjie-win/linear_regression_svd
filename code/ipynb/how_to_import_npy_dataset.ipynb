{
 "cells": [
  {
   "cell_type": "code",
   "execution_count": 1,
   "id": "d1ba7ea5",
   "metadata": {},
   "outputs": [],
   "source": [
    "import numpy as np"
   ]
  },
  {
   "cell_type": "code",
   "execution_count": 2,
   "id": "b2d78765",
   "metadata": {},
   "outputs": [],
   "source": [
    "dataset_loc = r\"effect_validation_dataset/xtrain.npy\""
   ]
  },
  {
   "cell_type": "code",
   "execution_count": 3,
   "id": "2017379d",
   "metadata": {},
   "outputs": [],
   "source": [
    "X_train = np.load(dataset_loc)"
   ]
  },
  {
   "cell_type": "code",
   "execution_count": 6,
   "id": "7f725f54",
   "metadata": {},
   "outputs": [],
   "source": [
    "np.set_printoptions(\n",
    "    infstr='inf',\n",
    "    nanstr='nan',\n",
    "    formatter=None,\n",
    "    precision=2,    # 精度，保留小数点后几位\n",
    "    threshold=500,\n",
    "    # 最多可现实的Array元素个数\n",
    "    # 限制的是基本元素个数，如3*5的矩阵，限制的是15而非3（行）\n",
    "    # 如果超过就采用缩略显示\n",
    "    edgeitems=3,\n",
    "    # 在缩率显示时在起始和默认显示的元素个数\n",
    "    linewidth=150,  # 每行最多显示的字符数，默认80，超过则换行显示\n",
    "    suppress=True   # 浮点显示（不用科学计数法）\n",
    ")"
   ]
  },
  {
   "cell_type": "code",
   "execution_count": 7,
   "id": "bbe796f0",
   "metadata": {},
   "outputs": [
    {
     "name": "stdout",
     "output_type": "stream",
     "text": [
      "[[  0.12   0.    10.01 ...  17.8  394.95  16.21]\n",
      " [  0.04  34.     6.09 ...  16.1  395.75   9.5 ]\n",
      " [ 14.24   0.    18.1  ...  20.2  396.9   20.32]\n",
      " ...\n",
      " [  0.03  75.     2.95 ...  18.3  395.62   1.98]\n",
      " [  0.54   0.     6.2  ...  17.4  378.35  11.65]\n",
      " [  0.04  25.     4.86 ...  19.   390.64   7.51]]\n"
     ]
    }
   ],
   "source": [
    "print(X_train)"
   ]
  },
  {
   "cell_type": "code",
   "execution_count": 10,
   "id": "190cebd0",
   "metadata": {},
   "outputs": [
    {
     "name": "stdout",
     "output_type": "stream",
     "text": [
      "X_train的数据总数：4927\n",
      "X_train的行数(样本点数)：379\n",
      "X_train的列数(变量数/维度)：13\n"
     ]
    }
   ],
   "source": [
    "print(\"X_train的数据总数：%d\" % X_train.size)\n",
    "print(\"X_train的行数(样本点数)：%d\" % X_train.shape[0])\n",
    "print(\"X_train的列数(变量数/维度)：%d\" % X_train.shape[1])"
   ]
  },
  {
   "cell_type": "code",
   "execution_count": 13,
   "id": "83ef40f5",
   "metadata": {},
   "outputs": [
    {
     "name": "stdout",
     "output_type": "stream",
     "text": [
      "X_train的第135行第9列为：5.000000\n",
      "X_train的第3行第12列为：396.900000\n"
     ]
    }
   ],
   "source": [
    "print(\"X_train的第135行第9列为：%f\" % X_train[134, 8])\n",
    "print(\"X_train的第3行第12列为：%f\" % X_train[2, 11])"
   ]
  }
 ],
 "metadata": {
  "kernelspec": {
   "display_name": "Python 3 (ipykernel)",
   "language": "python",
   "name": "python3"
  },
  "language_info": {
   "codemirror_mode": {
    "name": "ipython",
    "version": 3
   },
   "file_extension": ".py",
   "mimetype": "text/x-python",
   "name": "python",
   "nbconvert_exporter": "python",
   "pygments_lexer": "ipython3",
   "version": "3.9.12"
  }
 },
 "nbformat": 4,
 "nbformat_minor": 5
}
